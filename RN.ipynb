{
 "cells": [
  {
   "cell_type": "code",
   "execution_count": 1,
   "metadata": {},
   "outputs": [],
   "source": [
    "import pandas as pd\n",
    "df = pd.read_csv('dataset/dataset.csv', encoding=\"unicode_escape\")"
   ]
  },
  {
   "cell_type": "code",
   "execution_count": 2,
   "metadata": {},
   "outputs": [],
   "source": [
    "X = df.drop('Etiqueta', axis=1).values\n",
    "y = df['Etiqueta'].values"
   ]
  },
  {
   "cell_type": "code",
   "execution_count": 3,
   "metadata": {},
   "outputs": [],
   "source": [
    "from sklearn.model_selection import train_test_split\n",
    "X_train, X_test, y_train, y_test = train_test_split(X, y, test_size=0.2)"
   ]
  },
  {
   "cell_type": "code",
   "execution_count": 4,
   "metadata": {},
   "outputs": [],
   "source": [
    "from sklearn.preprocessing import MinMaxScaler\n",
    "scaler = MinMaxScaler()\n",
    "X_train = scaler.fit_transform(X_train)\n",
    "X_test = scaler.transform(X_test)"
   ]
  },
  {
   "cell_type": "code",
   "execution_count": 5,
   "metadata": {},
   "outputs": [
    {
     "data": {
      "text/plain": [
       "{'A',\n",
       " 'B',\n",
       " 'C',\n",
       " 'D',\n",
       " 'E',\n",
       " 'F',\n",
       " 'G',\n",
       " 'H',\n",
       " 'I',\n",
       " 'J',\n",
       " 'K',\n",
       " 'L',\n",
       " 'M',\n",
       " 'N',\n",
       " 'O',\n",
       " 'P',\n",
       " 'Q',\n",
       " 'R',\n",
       " 'S',\n",
       " 'T',\n",
       " 'U',\n",
       " 'V',\n",
       " 'W',\n",
       " 'X',\n",
       " 'Y',\n",
       " 'Z',\n",
       " 'Ñ'}"
      ]
     },
     "execution_count": 5,
     "metadata": {},
     "output_type": "execute_result"
    }
   ],
   "source": [
    "set(y_train)"
   ]
  },
  {
   "cell_type": "code",
   "execution_count": 6,
   "metadata": {},
   "outputs": [],
   "source": [
    "from keras.utils import to_categorical\n",
    "from sklearn.preprocessing import LabelEncoder\n",
    "import numpy as np\n",
    "le = LabelEncoder()\n",
    "y_train = le.fit_transform(y_train)\n",
    "y_test = le.transform(y_test)\n",
    "\n",
    "y_train = to_categorical(y_train)\n",
    "y_test = to_categorical(y_test)"
   ]
  },
  {
   "cell_type": "code",
   "execution_count": 7,
   "metadata": {},
   "outputs": [
    {
     "name": "stdout",
     "output_type": "stream",
     "text": [
      "(5745, 5)\n",
      "(5745, 27)\n"
     ]
    }
   ],
   "source": [
    "print(X_train.shape) # Debería mostrar (número de muestras de entrenamiento, número de sensores y valores de giroscopio)\n",
    "print(y_train.shape) # Debería mostrar (número de muestras de entrenamiento, número de clases)"
   ]
  },
  {
   "cell_type": "code",
   "execution_count": 13,
   "metadata": {},
   "outputs": [
    {
     "data": {
      "text/plain": [
       "array(['A', 'B', 'C', ..., 'X', 'Y', 'Z'], dtype=object)"
      ]
     },
     "execution_count": 13,
     "metadata": {},
     "output_type": "execute_result"
    }
   ],
   "source": [
    "y"
   ]
  },
  {
   "attachments": {},
   "cell_type": "markdown",
   "metadata": {},
   "source": [
    "**MODELO**"
   ]
  },
  {
   "cell_type": "code",
   "execution_count": 8,
   "metadata": {},
   "outputs": [],
   "source": [
    "from keras.models import Sequential\n",
    "from keras.layers import Dense, Dropout\n",
    "# Definir la arquitectura de la red neuronal\n",
    "model = Sequential()\n",
    "model.add(Dense(64, input_dim=5, activation='relu')) # Capa de entrada con N neuronas y función de activación ReLU\n",
    "model.add(Dense(128, activation='relu')) # Capa oculta con 128 neuronas y función de activación ReLU\n",
    "model.add(Dropout(0.5)) # Dropout para evitar el sobreajuste\n",
    "model.add(Dense(27, activation='softmax')) # Capa de salida con 27 neuronas y función de activación softmax\n",
    "# Compilar el modelo\n",
    "model.compile(loss='categorical_crossentropy', optimizer='adam', metrics=['accuracy']) # Función de pérdida, algoritmo de optimización y métricas de evaluación"
   ]
  },
  {
   "cell_type": "code",
   "execution_count": 9,
   "metadata": {},
   "outputs": [
    {
     "name": "stdout",
     "output_type": "stream",
     "text": [
      "Model: \"sequential\"\n",
      "_________________________________________________________________\n",
      " Layer (type)                Output Shape              Param #   \n",
      "=================================================================\n",
      " dense (Dense)               (None, 64)                384       \n",
      "                                                                 \n",
      " dense_1 (Dense)             (None, 128)               8320      \n",
      "                                                                 \n",
      " dropout (Dropout)           (None, 128)               0         \n",
      "                                                                 \n",
      " dense_2 (Dense)             (None, 27)                3483      \n",
      "                                                                 \n",
      "=================================================================\n",
      "Total params: 12,187\n",
      "Trainable params: 12,187\n",
      "Non-trainable params: 0\n",
      "_________________________________________________________________\n"
     ]
    }
   ],
   "source": [
    "model.summary()"
   ]
  },
  {
   "cell_type": "code",
   "execution_count": 10,
   "metadata": {},
   "outputs": [
    {
     "name": "stdout",
     "output_type": "stream",
     "text": [
      "Epoch 1/50\n",
      "180/180 [==============================] - 1s 4ms/step - loss: 3.3034 - accuracy: 0.0357 - val_loss: 3.2983 - val_accuracy: 0.0431\n",
      "Epoch 2/50\n",
      "180/180 [==============================] - 0s 2ms/step - loss: 3.2963 - accuracy: 0.0378 - val_loss: 3.2989 - val_accuracy: 0.0341\n",
      "Epoch 3/50\n",
      "180/180 [==============================] - 0s 2ms/step - loss: 3.2956 - accuracy: 0.0393 - val_loss: 3.2996 - val_accuracy: 0.0327\n",
      "Epoch 4/50\n",
      "180/180 [==============================] - 0s 2ms/step - loss: 3.2943 - accuracy: 0.0407 - val_loss: 3.3000 - val_accuracy: 0.0355\n",
      "Epoch 5/50\n",
      "180/180 [==============================] - 0s 2ms/step - loss: 3.2926 - accuracy: 0.0463 - val_loss: 3.3007 - val_accuracy: 0.0334\n",
      "Epoch 6/50\n",
      "180/180 [==============================] - 0s 2ms/step - loss: 3.2903 - accuracy: 0.0456 - val_loss: 3.3028 - val_accuracy: 0.0418\n",
      "Epoch 7/50\n",
      "180/180 [==============================] - 0s 2ms/step - loss: 3.2911 - accuracy: 0.0460 - val_loss: 3.3019 - val_accuracy: 0.0404\n",
      "Epoch 8/50\n",
      "180/180 [==============================] - 0s 2ms/step - loss: 3.2876 - accuracy: 0.0447 - val_loss: 3.3058 - val_accuracy: 0.0376\n",
      "Epoch 9/50\n",
      "180/180 [==============================] - 0s 2ms/step - loss: 3.2858 - accuracy: 0.0503 - val_loss: 3.3066 - val_accuracy: 0.0355\n",
      "Epoch 10/50\n",
      "180/180 [==============================] - 0s 2ms/step - loss: 3.2858 - accuracy: 0.0489 - val_loss: 3.3073 - val_accuracy: 0.0411\n",
      "Epoch 11/50\n",
      "180/180 [==============================] - 0s 2ms/step - loss: 3.2852 - accuracy: 0.0475 - val_loss: 3.3082 - val_accuracy: 0.0424\n",
      "Epoch 12/50\n",
      "180/180 [==============================] - 0s 2ms/step - loss: 3.2826 - accuracy: 0.0477 - val_loss: 3.3085 - val_accuracy: 0.0431\n",
      "Epoch 13/50\n",
      "180/180 [==============================] - 0s 2ms/step - loss: 3.2806 - accuracy: 0.0482 - val_loss: 3.3110 - val_accuracy: 0.0348\n",
      "Epoch 14/50\n",
      "180/180 [==============================] - 0s 2ms/step - loss: 3.2804 - accuracy: 0.0540 - val_loss: 3.3114 - val_accuracy: 0.0404\n",
      "Epoch 15/50\n",
      "180/180 [==============================] - 0s 2ms/step - loss: 3.2796 - accuracy: 0.0540 - val_loss: 3.3114 - val_accuracy: 0.0376\n",
      "Epoch 16/50\n",
      "180/180 [==============================] - 0s 2ms/step - loss: 3.2752 - accuracy: 0.0550 - val_loss: 3.3131 - val_accuracy: 0.0411\n",
      "Epoch 17/50\n",
      "180/180 [==============================] - 0s 2ms/step - loss: 3.2775 - accuracy: 0.0517 - val_loss: 3.3142 - val_accuracy: 0.0397\n",
      "Epoch 18/50\n",
      "180/180 [==============================] - 0s 2ms/step - loss: 3.2741 - accuracy: 0.0559 - val_loss: 3.3153 - val_accuracy: 0.0383\n",
      "Epoch 19/50\n",
      "180/180 [==============================] - 0s 2ms/step - loss: 3.2729 - accuracy: 0.0465 - val_loss: 3.3148 - val_accuracy: 0.0404\n",
      "Epoch 20/50\n",
      "180/180 [==============================] - 0s 2ms/step - loss: 3.2695 - accuracy: 0.0513 - val_loss: 3.3184 - val_accuracy: 0.0362\n",
      "Epoch 21/50\n",
      "180/180 [==============================] - 0s 2ms/step - loss: 3.2701 - accuracy: 0.0529 - val_loss: 3.3211 - val_accuracy: 0.0355\n",
      "Epoch 22/50\n",
      "180/180 [==============================] - 0s 2ms/step - loss: 3.2671 - accuracy: 0.0574 - val_loss: 3.3222 - val_accuracy: 0.0355\n",
      "Epoch 23/50\n",
      "180/180 [==============================] - 0s 2ms/step - loss: 3.2670 - accuracy: 0.0555 - val_loss: 3.3246 - val_accuracy: 0.0362\n",
      "Epoch 24/50\n",
      "180/180 [==============================] - 0s 2ms/step - loss: 3.2650 - accuracy: 0.0609 - val_loss: 3.3240 - val_accuracy: 0.0418\n",
      "Epoch 25/50\n",
      "180/180 [==============================] - 0s 2ms/step - loss: 3.2625 - accuracy: 0.0606 - val_loss: 3.3238 - val_accuracy: 0.0362\n",
      "Epoch 26/50\n",
      "180/180 [==============================] - 0s 2ms/step - loss: 3.2642 - accuracy: 0.0578 - val_loss: 3.3259 - val_accuracy: 0.0355\n",
      "Epoch 27/50\n",
      "180/180 [==============================] - 0s 2ms/step - loss: 3.2630 - accuracy: 0.0569 - val_loss: 3.3259 - val_accuracy: 0.0390\n",
      "Epoch 28/50\n",
      "180/180 [==============================] - 0s 2ms/step - loss: 3.2581 - accuracy: 0.0594 - val_loss: 3.3287 - val_accuracy: 0.0411\n",
      "Epoch 29/50\n",
      "180/180 [==============================] - 0s 2ms/step - loss: 3.2614 - accuracy: 0.0581 - val_loss: 3.3284 - val_accuracy: 0.0376\n",
      "Epoch 30/50\n",
      "180/180 [==============================] - 0s 2ms/step - loss: 3.2562 - accuracy: 0.0623 - val_loss: 3.3335 - val_accuracy: 0.0397\n",
      "Epoch 31/50\n",
      "180/180 [==============================] - 0s 2ms/step - loss: 3.2569 - accuracy: 0.0534 - val_loss: 3.3292 - val_accuracy: 0.0424\n",
      "Epoch 32/50\n",
      "180/180 [==============================] - 0s 2ms/step - loss: 3.2522 - accuracy: 0.0599 - val_loss: 3.3320 - val_accuracy: 0.0431\n",
      "Epoch 33/50\n",
      "180/180 [==============================] - 0s 2ms/step - loss: 3.2518 - accuracy: 0.0630 - val_loss: 3.3360 - val_accuracy: 0.0383\n",
      "Epoch 34/50\n",
      "180/180 [==============================] - 0s 2ms/step - loss: 3.2538 - accuracy: 0.0604 - val_loss: 3.3320 - val_accuracy: 0.0369\n",
      "Epoch 35/50\n",
      "180/180 [==============================] - 0s 2ms/step - loss: 3.2490 - accuracy: 0.0651 - val_loss: 3.3376 - val_accuracy: 0.0376\n",
      "Epoch 36/50\n",
      "180/180 [==============================] - 0s 2ms/step - loss: 3.2506 - accuracy: 0.0665 - val_loss: 3.3383 - val_accuracy: 0.0404\n",
      "Epoch 37/50\n",
      "180/180 [==============================] - 0s 2ms/step - loss: 3.2476 - accuracy: 0.0681 - val_loss: 3.3370 - val_accuracy: 0.0390\n",
      "Epoch 38/50\n",
      "180/180 [==============================] - 0s 2ms/step - loss: 3.2466 - accuracy: 0.0609 - val_loss: 3.3384 - val_accuracy: 0.0404\n",
      "Epoch 39/50\n",
      "180/180 [==============================] - 0s 2ms/step - loss: 3.2487 - accuracy: 0.0658 - val_loss: 3.3386 - val_accuracy: 0.0376\n",
      "Epoch 40/50\n",
      "180/180 [==============================] - 0s 2ms/step - loss: 3.2433 - accuracy: 0.0654 - val_loss: 3.3416 - val_accuracy: 0.0383\n",
      "Epoch 41/50\n",
      "180/180 [==============================] - 0s 2ms/step - loss: 3.2419 - accuracy: 0.0602 - val_loss: 3.3429 - val_accuracy: 0.0418\n",
      "Epoch 42/50\n",
      "180/180 [==============================] - 0s 2ms/step - loss: 3.2438 - accuracy: 0.0621 - val_loss: 3.3425 - val_accuracy: 0.0369\n",
      "Epoch 43/50\n",
      "180/180 [==============================] - 0s 2ms/step - loss: 3.2384 - accuracy: 0.0721 - val_loss: 3.3415 - val_accuracy: 0.0404\n",
      "Epoch 44/50\n",
      "180/180 [==============================] - 0s 2ms/step - loss: 3.2401 - accuracy: 0.0672 - val_loss: 3.3446 - val_accuracy: 0.0404\n",
      "Epoch 45/50\n",
      "180/180 [==============================] - 0s 2ms/step - loss: 3.2386 - accuracy: 0.0646 - val_loss: 3.3451 - val_accuracy: 0.0418\n",
      "Epoch 46/50\n",
      "180/180 [==============================] - 0s 2ms/step - loss: 3.2360 - accuracy: 0.0651 - val_loss: 3.3467 - val_accuracy: 0.0431\n",
      "Epoch 47/50\n",
      "180/180 [==============================] - 0s 2ms/step - loss: 3.2383 - accuracy: 0.0679 - val_loss: 3.3483 - val_accuracy: 0.0438\n",
      "Epoch 48/50\n",
      "180/180 [==============================] - 0s 2ms/step - loss: 3.2341 - accuracy: 0.0681 - val_loss: 3.3515 - val_accuracy: 0.0431\n",
      "Epoch 49/50\n",
      "180/180 [==============================] - 0s 2ms/step - loss: 3.2365 - accuracy: 0.0689 - val_loss: 3.3501 - val_accuracy: 0.0424\n",
      "Epoch 50/50\n",
      "180/180 [==============================] - 0s 2ms/step - loss: 3.2335 - accuracy: 0.0712 - val_loss: 3.3483 - val_accuracy: 0.0452\n"
     ]
    }
   ],
   "source": [
    "# Entrenar el modelo\n",
    "history = model.fit(X_train, y_train, epochs=50, batch_size=32, validation_data=(X_test, y_test)) # Datos de entrenamiento, épocas, tamaño del lote y datos de validación"
   ]
  },
  {
   "cell_type": "code",
   "execution_count": 11,
   "metadata": {},
   "outputs": [
    {
     "name": "stdout",
     "output_type": "stream",
     "text": [
      "45/45 [==============================] - 0s 1ms/step - loss: 3.3483 - accuracy: 0.0452\n",
      "Loss:  3.3483004570007324\n",
      "Accuracy:  0.04523312300443649\n"
     ]
    }
   ],
   "source": [
    "# Evaluar el modelo\n",
    "loss, accuracy = model.evaluate(X_test, y_test) # Datos de evaluación\n",
    "print(\"Loss: \", loss)\n",
    "print(\"Accuracy: \", accuracy)"
   ]
  },
  {
   "cell_type": "code",
   "execution_count": 12,
   "metadata": {},
   "outputs": [
    {
     "data": {
      "image/png": "[encoded data removed]",
      "text/plain": [
       "<Figure size 600x600 with 1 Axes>"
      ]
     },
     "metadata": {},
     "output_type": "display_data"
    }
   ],
   "source": [
    "import matplotlib.pyplot as plt\n",
    "plt.figure(figsize=(6,6))\n",
    "plt.plot(history.history['accuracy'], label='training accuracy')\n",
    "plt.plot(history.history['val_accuracy'], label='val accuracy')\n",
    "plt.plot(history.history['loss'], label='training loss')\n",
    "plt.plot(history.history['val_loss'], label='val loss')\n",
    "plt.title('Loss/accuracy')\n",
    "plt.xlabel('epochs')\n",
    "plt.ylabel('loss')\n",
    "plt.legend()\n",
    "plt.show()"
   ]
  }
 ],
 "metadata": {
  "kernelspec": {
   "display_name": "base",
   "language": "python",
   "name": "python3"
  },
  "language_info": {
   "codemirror_mode": {
    "name": "ipython",
    "version": 3
   },
   "file_extension": ".py",
   "mimetype": "text/x-python",
   "name": "python",
   "nbconvert_exporter": "python",
   "pygments_lexer": "ipython3",
   "version": "3.10.9"
  },
  "orig_nbformat": 4
 },
 "nbformat": 4,
 "nbformat_minor": 2
}
