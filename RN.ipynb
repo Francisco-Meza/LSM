{
 "cells": [
  {
   "cell_type": "code",
   "execution_count": 37,
   "metadata": {},
   "outputs": [],
   "source": [
    "import pandas as pd\n",
    "df = pd.read_csv('training_data.csv', encoding=\"unicode_escape\")"
   ]
  },
  {
   "cell_type": "code",
   "execution_count": 38,
   "metadata": {},
   "outputs": [],
   "source": [
    "X = df.drop('label', axis=1).values\n",
    "y = df['label'].values"
   ]
  },
  {
   "cell_type": "code",
   "execution_count": 39,
   "metadata": {},
   "outputs": [],
   "source": [
    "from sklearn.model_selection import train_test_split\n",
    "X_train, X_test, y_train, y_test = train_test_split(X, y, test_size=0.2)"
   ]
  },
  {
   "cell_type": "code",
   "execution_count": 40,
   "metadata": {},
   "outputs": [],
   "source": [
    "from sklearn.preprocessing import MinMaxScaler\n",
    "scaler = MinMaxScaler()\n",
    "X_train = scaler.fit_transform(X_train)\n",
    "X_test = scaler.transform(X_test)"
   ]
  },
  {
   "cell_type": "code",
   "execution_count": 41,
   "metadata": {},
   "outputs": [
    {
     "data": {
      "text/plain": [
       "{'A', 'B', 'C', 'D', 'E'}"
      ]
     },
     "execution_count": 41,
     "metadata": {},
     "output_type": "execute_result"
    }
   ],
   "source": [
    "set(y_train)"
   ]
  },
  {
   "cell_type": "code",
   "execution_count": 42,
   "metadata": {},
   "outputs": [],
   "source": [
    "from keras.utils import to_categorical\n",
    "from sklearn.preprocessing import LabelEncoder\n",
    "import numpy as np\n",
    "le = LabelEncoder()\n",
    "y_train = le.fit_transform(y_train)\n",
    "y_test = le.transform(y_test)\n",
    "\n",
    "y_train = to_categorical(y_train)\n",
    "y_test = to_categorical(y_test)"
   ]
  },
  {
   "cell_type": "code",
   "execution_count": 43,
   "metadata": {},
   "outputs": [
    {
     "name": "stdout",
     "output_type": "stream",
     "text": [
      "(12505, 18)\n",
      "(12505, 5)\n"
     ]
    }
   ],
   "source": [
    "print(X_train.shape) # Debería mostrar (número de muestras de entrenamiento, número de sensores y valores de giroscopio)\n",
    "print(y_train.shape) # Debería mostrar (número de muestras de entrenamiento, número de clases)"
   ]
  },
  {
   "cell_type": "code",
   "execution_count": 44,
   "metadata": {},
   "outputs": [
    {
     "data": {
      "text/plain": [
       "array(['A', 'A', 'A', ..., 'E', 'E', 'E'], dtype=object)"
      ]
     },
     "execution_count": 44,
     "metadata": {},
     "output_type": "execute_result"
    }
   ],
   "source": [
    "y"
   ]
  },
  {
   "attachments": {},
   "cell_type": "markdown",
   "metadata": {},
   "source": [
    "**MODELO**"
   ]
  },
  {
   "cell_type": "code",
   "execution_count": 45,
   "metadata": {},
   "outputs": [],
   "source": [
    "from keras.models import Sequential\n",
    "from keras.layers import Dense, Dropout\n",
    "# Definir la arquitectura de la red neuronal\n",
    "model = Sequential()\n",
    "model.add(Dense(64, input_dim=18, activation='relu')) # Capa de entrada con N neuronas y función de activación ReLU\n",
    "model.add(Dense(128, activation='relu')) # Capa oculta con 128 neuronas y función de activación ReLU\n",
    "model.add(Dropout(0.5)) # Dropout para evitar el sobreajuste\n",
    "model.add(Dense(5, activation='softmax')) # Capa de salida con 27 neuronas y función de activación softmax\n",
    "# Compilar el modelo\n",
    "model.compile(loss='categorical_crossentropy', optimizer='adam', metrics=['accuracy']) # Función de pérdida, algoritmo de optimización y métricas de evaluación"
   ]
  },
  {
   "cell_type": "code",
   "execution_count": 46,
   "metadata": {},
   "outputs": [
    {
     "name": "stdout",
     "output_type": "stream",
     "text": [
      "Model: \"sequential_2\"\n",
      "_________________________________________________________________\n",
      " Layer (type)                Output Shape              Param #   \n",
      "=================================================================\n",
      " dense_6 (Dense)             (None, 64)                1216      \n",
      "                                                                 \n",
      " dense_7 (Dense)             (None, 128)               8320      \n",
      "                                                                 \n",
      " dropout_2 (Dropout)         (None, 128)               0         \n",
      "                                                                 \n",
      " dense_8 (Dense)             (None, 5)                 645       \n",
      "                                                                 \n",
      "=================================================================\n",
      "Total params: 10,181\n",
      "Trainable params: 10,181\n",
      "Non-trainable params: 0\n",
      "_________________________________________________________________\n"
     ]
    }
   ],
   "source": [
    "model.summary()"
   ]
  },
  {
   "cell_type": "code",
   "execution_count": 47,
   "metadata": {},
   "outputs": [
    {
     "name": "stdout",
     "output_type": "stream",
     "text": [
      "Epoch 1/50\n",
      "391/391 [==============================] - 2s 4ms/step - loss: 0.7222 - accuracy: 0.6772 - val_loss: 0.4236 - val_accuracy: 0.7419\n",
      "Epoch 2/50\n",
      "391/391 [==============================] - 1s 3ms/step - loss: 0.4313 - accuracy: 0.7358 - val_loss: 0.3977 - val_accuracy: 0.7435\n",
      "Epoch 3/50\n",
      "391/391 [==============================] - 1s 4ms/step - loss: 0.4038 - accuracy: 0.7422 - val_loss: 0.3743 - val_accuracy: 0.7454\n",
      "Epoch 4/50\n",
      "391/391 [==============================] - 1s 4ms/step - loss: 0.3910 - accuracy: 0.7399 - val_loss: 0.3755 - val_accuracy: 0.7448\n",
      "Epoch 5/50\n",
      "391/391 [==============================] - 1s 4ms/step - loss: 0.3838 - accuracy: 0.7396 - val_loss: 0.3662 - val_accuracy: 0.7454\n",
      "Epoch 6/50\n",
      "391/391 [==============================] - 1s 4ms/step - loss: 0.3791 - accuracy: 0.7390 - val_loss: 0.3629 - val_accuracy: 0.7483\n",
      "Epoch 7/50\n",
      "391/391 [==============================] - 1s 3ms/step - loss: 0.3747 - accuracy: 0.7455 - val_loss: 0.3628 - val_accuracy: 0.7410\n",
      "Epoch 8/50\n",
      "391/391 [==============================] - 1s 4ms/step - loss: 0.3727 - accuracy: 0.7400 - val_loss: 0.3618 - val_accuracy: 0.7426\n",
      "Epoch 9/50\n",
      "391/391 [==============================] - 1s 4ms/step - loss: 0.3718 - accuracy: 0.7374 - val_loss: 0.3597 - val_accuracy: 0.7445\n",
      "Epoch 10/50\n",
      "391/391 [==============================] - 1s 4ms/step - loss: 0.3706 - accuracy: 0.7418 - val_loss: 0.3632 - val_accuracy: 0.7394\n",
      "Epoch 11/50\n",
      "391/391 [==============================] - 1s 4ms/step - loss: 0.3682 - accuracy: 0.7446 - val_loss: 0.3610 - val_accuracy: 0.7410\n",
      "Epoch 12/50\n",
      "391/391 [==============================] - 1s 4ms/step - loss: 0.3693 - accuracy: 0.7383 - val_loss: 0.3587 - val_accuracy: 0.7458\n",
      "Epoch 13/50\n",
      "391/391 [==============================] - 1s 3ms/step - loss: 0.3660 - accuracy: 0.7448 - val_loss: 0.3598 - val_accuracy: 0.7378\n",
      "Epoch 14/50\n",
      "391/391 [==============================] - 1s 4ms/step - loss: 0.3666 - accuracy: 0.7390 - val_loss: 0.3561 - val_accuracy: 0.7486\n",
      "Epoch 15/50\n",
      "391/391 [==============================] - 1s 4ms/step - loss: 0.3656 - accuracy: 0.7444 - val_loss: 0.3580 - val_accuracy: 0.7362\n",
      "Epoch 16/50\n",
      "391/391 [==============================] - 1s 3ms/step - loss: 0.3643 - accuracy: 0.7439 - val_loss: 0.3581 - val_accuracy: 0.7506\n",
      "Epoch 17/50\n",
      "391/391 [==============================] - 2s 4ms/step - loss: 0.3635 - accuracy: 0.7431 - val_loss: 0.3572 - val_accuracy: 0.7474\n",
      "Epoch 18/50\n",
      "391/391 [==============================] - 2s 4ms/step - loss: 0.3650 - accuracy: 0.7354 - val_loss: 0.3564 - val_accuracy: 0.7394\n",
      "Epoch 19/50\n",
      "391/391 [==============================] - 1s 3ms/step - loss: 0.3638 - accuracy: 0.7409 - val_loss: 0.3571 - val_accuracy: 0.7426\n",
      "Epoch 20/50\n",
      "391/391 [==============================] - 1s 3ms/step - loss: 0.3624 - accuracy: 0.7419 - val_loss: 0.3566 - val_accuracy: 0.7483\n",
      "Epoch 21/50\n",
      "391/391 [==============================] - 1s 3ms/step - loss: 0.3631 - accuracy: 0.7395 - val_loss: 0.3555 - val_accuracy: 0.7438\n",
      "Epoch 22/50\n",
      "391/391 [==============================] - 1s 3ms/step - loss: 0.3614 - accuracy: 0.7441 - val_loss: 0.3564 - val_accuracy: 0.7438\n",
      "Epoch 23/50\n",
      "391/391 [==============================] - 1s 4ms/step - loss: 0.3618 - accuracy: 0.7342 - val_loss: 0.3551 - val_accuracy: 0.7458\n",
      "Epoch 24/50\n",
      "391/391 [==============================] - 1s 3ms/step - loss: 0.3616 - accuracy: 0.7427 - val_loss: 0.3598 - val_accuracy: 0.7381\n",
      "Epoch 25/50\n",
      "391/391 [==============================] - 1s 3ms/step - loss: 0.3615 - accuracy: 0.7409 - val_loss: 0.3606 - val_accuracy: 0.7426\n",
      "Epoch 26/50\n",
      "391/391 [==============================] - 1s 3ms/step - loss: 0.3619 - accuracy: 0.7415 - val_loss: 0.3550 - val_accuracy: 0.7381\n",
      "Epoch 27/50\n",
      "391/391 [==============================] - 1s 4ms/step - loss: 0.3604 - accuracy: 0.7400 - val_loss: 0.3542 - val_accuracy: 0.7426\n",
      "Epoch 28/50\n",
      "391/391 [==============================] - 1s 4ms/step - loss: 0.3597 - accuracy: 0.7467 - val_loss: 0.3549 - val_accuracy: 0.7390\n",
      "Epoch 29/50\n",
      "391/391 [==============================] - 1s 4ms/step - loss: 0.3599 - accuracy: 0.7415 - val_loss: 0.3544 - val_accuracy: 0.7515\n",
      "Epoch 30/50\n",
      "391/391 [==============================] - 1s 4ms/step - loss: 0.3598 - accuracy: 0.7415 - val_loss: 0.3556 - val_accuracy: 0.7381\n",
      "Epoch 31/50\n",
      "391/391 [==============================] - 1s 3ms/step - loss: 0.3605 - accuracy: 0.7380 - val_loss: 0.3558 - val_accuracy: 0.7394\n",
      "Epoch 32/50\n",
      "391/391 [==============================] - 1s 4ms/step - loss: 0.3587 - accuracy: 0.7443 - val_loss: 0.3560 - val_accuracy: 0.7445\n",
      "Epoch 33/50\n",
      "391/391 [==============================] - 1s 4ms/step - loss: 0.3598 - accuracy: 0.7438 - val_loss: 0.3559 - val_accuracy: 0.7438\n",
      "Epoch 34/50\n",
      "391/391 [==============================] - 1s 4ms/step - loss: 0.3588 - accuracy: 0.7403 - val_loss: 0.3588 - val_accuracy: 0.7394\n",
      "Epoch 35/50\n",
      "391/391 [==============================] - 2s 5ms/step - loss: 0.3597 - accuracy: 0.7414 - val_loss: 0.3553 - val_accuracy: 0.7454\n",
      "Epoch 36/50\n",
      "391/391 [==============================] - 2s 4ms/step - loss: 0.3594 - accuracy: 0.7399 - val_loss: 0.3553 - val_accuracy: 0.7512\n",
      "Epoch 37/50\n",
      "391/391 [==============================] - 2s 4ms/step - loss: 0.3586 - accuracy: 0.7421 - val_loss: 0.3541 - val_accuracy: 0.7394\n",
      "Epoch 38/50\n",
      "391/391 [==============================] - 1s 4ms/step - loss: 0.3596 - accuracy: 0.7413 - val_loss: 0.3554 - val_accuracy: 0.7387\n",
      "Epoch 39/50\n",
      "391/391 [==============================] - 1s 4ms/step - loss: 0.3579 - accuracy: 0.7460 - val_loss: 0.3558 - val_accuracy: 0.7387\n",
      "Epoch 40/50\n",
      "391/391 [==============================] - 1s 4ms/step - loss: 0.3587 - accuracy: 0.7397 - val_loss: 0.3544 - val_accuracy: 0.7480\n",
      "Epoch 41/50\n",
      "391/391 [==============================] - 1s 4ms/step - loss: 0.3576 - accuracy: 0.7463 - val_loss: 0.3544 - val_accuracy: 0.7518\n",
      "Epoch 42/50\n",
      "391/391 [==============================] - 1s 4ms/step - loss: 0.3581 - accuracy: 0.7438 - val_loss: 0.3590 - val_accuracy: 0.7426\n",
      "Epoch 43/50\n",
      "391/391 [==============================] - 1s 3ms/step - loss: 0.3591 - accuracy: 0.7407 - val_loss: 0.3575 - val_accuracy: 0.7429\n",
      "Epoch 44/50\n",
      "391/391 [==============================] - 1s 4ms/step - loss: 0.3583 - accuracy: 0.7375 - val_loss: 0.3554 - val_accuracy: 0.7390\n",
      "Epoch 45/50\n",
      "391/391 [==============================] - 1s 4ms/step - loss: 0.3587 - accuracy: 0.7419 - val_loss: 0.3553 - val_accuracy: 0.7464\n",
      "Epoch 46/50\n",
      "391/391 [==============================] - 1s 3ms/step - loss: 0.3586 - accuracy: 0.7382 - val_loss: 0.3544 - val_accuracy: 0.7470\n",
      "Epoch 47/50\n",
      "391/391 [==============================] - 1s 4ms/step - loss: 0.3585 - accuracy: 0.7439 - val_loss: 0.3575 - val_accuracy: 0.7394\n",
      "Epoch 48/50\n",
      "391/391 [==============================] - 1s 3ms/step - loss: 0.3577 - accuracy: 0.7424 - val_loss: 0.3548 - val_accuracy: 0.7458\n",
      "Epoch 49/50\n",
      "391/391 [==============================] - 1s 4ms/step - loss: 0.3581 - accuracy: 0.7448 - val_loss: 0.3595 - val_accuracy: 0.7390\n",
      "Epoch 50/50\n",
      "391/391 [==============================] - 1s 4ms/step - loss: 0.3583 - accuracy: 0.7447 - val_loss: 0.3592 - val_accuracy: 0.7435\n"
     ]
    }
   ],
   "source": [
    "# Entrenar el modelo\n",
    "history = model.fit(X_train, y_train, epochs=50, batch_size=32, validation_data=(X_test, y_test)) # Datos de entrenamiento, épocas, tamaño del lote y datos de validación"
   ]
  },
  {
   "cell_type": "code",
   "execution_count": 48,
   "metadata": {},
   "outputs": [
    {
     "name": "stdout",
     "output_type": "stream",
     "text": [
      "98/98 [==============================] - 0s 2ms/step - loss: 0.3592 - accuracy: 0.7435\n",
      "Loss:  0.3592190742492676\n",
      "Accuracy:  0.7435241341590881\n"
     ]
    }
   ],
   "source": [
    "# Evaluar el modelo\n",
    "loss, accuracy = model.evaluate(X_test, y_test) # Datos de evaluación\n",
    "print(\"Loss: \", loss)\n",
    "print(\"Accuracy: \", accuracy)"
   ]
  },
  {
   "cell_type": "code",
   "execution_count": 49,
   "metadata": {},
   "outputs": [
    {
     "data": {
      "image/png": "[encoded data removed]",
      "text/plain": [
       "<Figure size 600x600 with 1 Axes>"
      ]
     },
     "metadata": {},
     "output_type": "display_data"
    }
   ],
   "source": [
    "import matplotlib.pyplot as plt\n",
    "plt.figure(figsize=(6,6))\n",
    "plt.plot(history.history['accuracy'], label='training accuracy')\n",
    "plt.plot(history.history['val_accuracy'], label='val accuracy')\n",
    "plt.plot(history.history['loss'], label='training loss')\n",
    "plt.plot(history.history['val_loss'], label='val loss')\n",
    "plt.title('Loss/accuracy')\n",
    "plt.xlabel('epochs')\n",
    "plt.ylabel('loss')\n",
    "plt.legend()\n",
    "plt.show()"
   ]
  },
  {
   "cell_type": "code",
   "execution_count": 50,
   "metadata": {},
   "outputs": [],
   "source": [
    "model.save(\"model.h5\")"
   ]
  }
 ],
 "metadata": {
  "kernelspec": {
   "display_name": "base",
   "language": "python",
   "name": "python3"
  },
  "language_info": {
   "codemirror_mode": {
    "name": "ipython",
    "version": 3
   },
   "file_extension": ".py",
   "mimetype": "text/x-python",
   "name": "python",
   "nbconvert_exporter": "python",
   "pygments_lexer": "ipython3",
   "version": "3.10.9"
  },
  "orig_nbformat": 4
 },
 "nbformat": 4,
 "nbformat_minor": 2
}
